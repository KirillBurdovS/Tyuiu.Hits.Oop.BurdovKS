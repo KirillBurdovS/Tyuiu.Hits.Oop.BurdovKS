{
 "cells": [
  {
   "cell_type": "markdown",
   "metadata": {},
   "source": [
    "<h1 style=\"color:DodgerBlue\">Индивидальный проект</h1>"
   ]
  },
  {
   "cell_type": "markdown",
   "metadata": {},
   "source": [
    "<h2 style=\"color:DodgerBlue\">Название проекта:</h2>\n",
    "\n",
    "----\n",
    "\n",
    "Вариант задания 4\n"
   ]
  },
  {
   "cell_type": "markdown",
   "metadata": {},
   "source": [
    "<h2 style=\"color:DodgerBlue\">Описание проекта:</h2>\n",
    "\n",
    "----\n",
    "\n",
    "[Создать базовый класс Product в C#, который будет представлять информацию о \n",
    "продуктах. На основе этого класса разработать 2-3 производных класса, \n",
    "демонстрирующих принципы наследования и полиморфизма. В каждом из классов \n",
    "должны быть реализованы новые атрибуты и методы, а также переопределены \n",
    "некоторые методы базового класса для демонстрации полиморфизма.]\n"
   ]
  },
  {
   "cell_type": "markdown",
   "metadata": {},
   "source": [
    "<h2 style=\"color:DodgerBlue\">Реализация:</h2>\n",
    "\n",
    "----"
   ]
  },
  {
   "cell_type": "code",
   "execution_count": null,
   "metadata": {
    "dotnet_interactive": {
     "language": "csharp"
    },
    "polyglot_notebook": {
     "kernelName": "csharp"
    }
   },
   "outputs": [
    {
     "data": {
      "text/plain": [
       "🛍️ СИСТЕМА УПРАВЛЕНИЯ ПРОДУКТАМИ"
      ]
     },
     "metadata": {},
     "output_type": "display_data"
    },
    {
     "data": {
      "text/plain": [
       "=================================="
      ]
     },
     "metadata": {},
     "output_type": "display_data"
    },
    {
     "data": {
      "text/plain": []
     },
     "metadata": {},
     "output_type": "display_data"
    },
    {
     "data": {
      "text/plain": [
       "1. ТЕСТИРОВАНИЕ ЭЛЕКТРОНИКИ"
      ]
     },
     "metadata": {},
     "output_type": "display_data"
    },
    {
     "name": "stdout",
     "output_type": "stream",
     "text": [
      "=== ИНФОРМАЦИЯ О ПРОДУКТЕ ===\n",
      "Название: Ноутбук Gaming, Цена: 50000 руб., Производитель: ASUS, Гарантия: 24 месяцев\n",
      "==============================\n",
      "✅ Стандартная гарантия\n",
      "Гарантия 24 месяцев. Применяем полную скидку!\n",
      "Применена скидка 15%. Новая цена: 42500.00 руб.\n"
     ]
    },
    {
     "data": {
      "text/plain": []
     },
     "metadata": {},
     "output_type": "display_data"
    },
    {
     "data": {
      "text/plain": [
       "2. ТЕСТИРОВАНИЕ ОДЕЖДЫ"
      ]
     },
     "metadata": {},
     "output_type": "display_data"
    },
    {
     "name": "stdout",
     "output_type": "stream",
     "text": [
      "=== ОДЕЖДА ===\n",
      "Название: Хлопковая рубашка\n",
      "Цена: 2500 руб.\n",
      "Производитель: Zara\n",
      "Размер: L\n",
      "==============\n",
      "Примерка одежды 'Хлопковая рубашка' размера L...\n",
      "Примерка завершена успешно!\n",
      "Применена скидка 20%. Новая цена: 2000.00 руб.\n"
     ]
    },
    {
     "data": {
      "text/plain": []
     },
     "metadata": {},
     "output_type": "display_data"
    },
    {
     "data": {
      "text/plain": [
       "3. ТЕСТИРОВАНИЕ КНИГ"
      ]
     },
     "metadata": {},
     "output_type": "display_data"
    },
    {
     "name": "stdout",
     "output_type": "stream",
     "text": [
      "=== ИНФОРМАЦИЯ О ПРОДУКТЕ ===\n",
      "Книга: Война и мир, Автор: Лев Толстой, Цена: 1500 руб., Издательство: Эксмо\n",
      "==============================\n"
     ]
    },
    {
     "data": {
      "text/plain": [
       "Информация: Книга: Война и мир, Автор: Лев Толстой, Цена: 1500 руб., Издательство: Эксмо"
      ]
     },
     "metadata": {},
     "output_type": "display_data"
    },
    {
     "name": "stdout",
     "output_type": "stream",
     "text": [
      "Чтение отрывка из книги 'Война и мир' автора Лев Толстой...\n",
      "«Это была темная и stormy night...»\n",
      "Для книг максимальная скидка 30%. Применяем: 30%\n",
      "Применена скидка 30%. Новая цена: 1050.00 руб.\n"
     ]
    },
    {
     "data": {
      "text/plain": []
     },
     "metadata": {},
     "output_type": "display_data"
    },
    {
     "data": {
      "text/plain": [
       "4. ДЕМОНСТРАЦИЯ ПОЛИМОРФИЗМА"
      ]
     },
     "metadata": {},
     "output_type": "display_data"
    },
    {
     "name": "stdout",
     "output_type": "stream",
     "text": [
      "=== ИНФОРМАЦИЯ О ПРОДУКТЕ ===\n",
      "Название: Смартфон, Цена: 30000 руб., Производитель: Samsung, Гарантия: 6 месяцев\n",
      "==============================\n",
      "Внимание! Гарантия всего 6 месяцев. Макс. скидка: 10%\n",
      "Применена скидка 10%. Новая цена: 27000.00 руб.\n"
     ]
    },
    {
     "data": {
      "text/plain": []
     },
     "metadata": {},
     "output_type": "display_data"
    },
    {
     "name": "stdout",
     "output_type": "stream",
     "text": [
      "=== ОДЕЖДА ===\n",
      "Название: Джинсы\n",
      "Цена: 4000 руб.\n",
      "Производитель: Levi's\n",
      "Размер: M\n",
      "==============\n",
      "Применена скидка 25%. Новая цена: 3000.00 руб.\n"
     ]
    },
    {
     "data": {
      "text/plain": []
     },
     "metadata": {},
     "output_type": "display_data"
    },
    {
     "name": "stdout",
     "output_type": "stream",
     "text": [
      "=== ИНФОРМАЦИЯ О ПРОДУКТЕ ===\n",
      "Книга: 1984, Автор: Джордж Оруэлл, Цена: 800 руб., Издательство: АСТ\n",
      "==============================\n",
      "Для книг максимальная скидка 30%. Применяем: 25%\n",
      "Применена скидка 25%. Новая цена: 600.00 руб.\n"
     ]
    },
    {
     "data": {
      "text/plain": []
     },
     "metadata": {},
     "output_type": "display_data"
    },
    {
     "data": {
      "text/plain": [
       "ПРОГРАММА ЗАВЕРШЕНА!"
      ]
     },
     "metadata": {},
     "output_type": "display_data"
    }
   ],
   "source": [
    "using System;\n",
    "\n",
    "\n",
    "public class Product\n",
    "{\n",
    "    public string Name { get; set; }\n",
    "    public decimal Price { get; set; }\n",
    "    public string Manufacturer { get; set; }\n",
    "\n",
    "    public Product(string name, decimal price, string manufacturer)\n",
    "    {\n",
    "        Name = name;\n",
    "        Price = price;\n",
    "        Manufacturer = manufacturer;с\n",
    "    }\n",
    "\n",
    "    public virtual string GetInfo()\n",
    "    {\n",
    "        return $\"Название: {Name}, Цена: {Price} руб., Производитель: {Manufacturer}\";\n",
    "    }\n",
    "\n",
    "    public virtual void Discount(decimal discountPercent)\n",
    "    {\n",
    "        if (discountPercent > 0 && discountPercent <= 100)\n",
    "        {\n",
    "            decimal discountAmount = Price * (discountPercent / 100);\n",
    "            Price -= discountAmount;\n",
    "            display($\"Применена скидка {discountPercent}%. Новая цена: {Price:F2} руб.\");\n",
    "        }\n",
    "        else\n",
    "        {\n",
    "            display(\"Неверный процент скидки!\");\n",
    "        }\n",
    "    }\n",
    "\n",
    "    public virtual void Display()\n",
    "    {\n",
    "        display(\"=== ИНФОРМАЦИЯ О ПРОДУКТЕ ===\");\n",
    "        display(GetInfo());\n",
    "        display(\"==============================\");\n",
    "    }\n",
    "\n",
    "    \n",
    "    protected void display(object message)\n",
    "    {\n",
    "        #if POLYGLOT\n",
    "        Display(message);\n",
    "        #else\n",
    "        Console.WriteLine(message);\n",
    "        #endif\n",
    "    }\n",
    "}\n",
    "\n",
    "// Класс для электроники\n",
    "public class Electronics : Product\n",
    "{\n",
    "    public int WarrantyPeriod { get; set; }\n",
    "\n",
    "    public Electronics(string name, decimal price, string manufacturer, int warrantyPeriod) \n",
    "        : base(name, price, manufacturer)\n",
    "    {\n",
    "        WarrantyPeriod = warrantyPeriod;\n",
    "    }\n",
    "\n",
    "    public override void Discount(decimal discountPercent)\n",
    "    {\n",
    "        if (WarrantyPeriod < 12)\n",
    "        {\n",
    "            decimal maxDiscount = Math.Min(discountPercent, 10);\n",
    "            display($\"Внимание! Гарантия всего {WarrantyPeriod} месяцев. Макс. скидка: {maxDiscount}%\");\n",
    "            base.Discount(maxDiscount);\n",
    "        }\n",
    "        else\n",
    "        {\n",
    "            display($\"Гарантия {WarrantyPeriod} месяцев. Применяем полную скидку!\");\n",
    "            base.Discount(discountPercent);\n",
    "        }\n",
    "    }\n",
    "\n",
    "    public override string GetInfo()\n",
    "    {\n",
    "        return base.GetInfo() + $\", Гарантия: {WarrantyPeriod} месяцев\";\n",
    "    }\n",
    "\n",
    "    public void CheckWarranty()\n",
    "    {\n",
    "        if (WarrantyPeriod > 24)\n",
    "        {\n",
    "            display(\"⭐ Премиальная гарантия!\");\n",
    "        }\n",
    "        else if (WarrantyPeriod > 12)\n",
    "        {\n",
    "            display(\"✅ Стандартная гарантия\");\n",
    "        }\n",
    "        else\n",
    "        {\n",
    "            display(\"⚠️ Короткая гарантия\");\n",
    "        }\n",
    "    }\n",
    "}\n",
    "\n",
    "// Класс для одежды\n",
    "public class Clothing : Product\n",
    "{\n",
    "    public string Size { get; set; }\n",
    "\n",
    "    public Clothing(string name, decimal price, string manufacturer, string size) \n",
    "        : base(name, price, manufacturer)\n",
    "    {\n",
    "        Size = size;\n",
    "    }\n",
    "\n",
    "    public override void Display()\n",
    "    {\n",
    "        display(\"=== ОДЕЖДА ===\");\n",
    "        display($\"Название: {Name}\");\n",
    "        display($\"Цена: {Price} руб.\");\n",
    "        display($\"Производитель: {Manufacturer}\");\n",
    "        display($\"Размер: {Size}\");\n",
    "        display(\"==============\");\n",
    "    }\n",
    "\n",
    "    public override string GetInfo()\n",
    "    {\n",
    "        return base.GetInfo() + $\", Размер: {Size}\";\n",
    "    }\n",
    "\n",
    "    public void TryOn()\n",
    "    {\n",
    "        display($\"Примерка одежды '{Name}' размера {Size}...\");\n",
    "        display(\"Примерка завершена успешно!\");\n",
    "    }\n",
    "}\n",
    "\n",
    "// Класс для книг\n",
    "public class Books : Product\n",
    "{\n",
    "    public string Author { get; set; }\n",
    "\n",
    "    public Books(string name, decimal price, string manufacturer, string author) \n",
    "        : base(name, price, manufacturer)\n",
    "    {\n",
    "        Author = author;\n",
    "    }\n",
    "\n",
    "    public override string GetInfo()\n",
    "    {\n",
    "        return $\"Книга: {Name}, Автор: {Author}, Цена: {Price} руб., Издательство: {Manufacturer}\";\n",
    "    }\n",
    "\n",
    "    public override void Discount(decimal discountPercent)\n",
    "    {\n",
    "        decimal actualDiscount = Math.Min(discountPercent, 30);\n",
    "        display($\"Для книг максимальная скидка 30%. Применяем: {actualDiscount}%\");\n",
    "        base.Discount(actualDiscount);\n",
    "    }\n",
    "\n",
    "    public void ReadSample()\n",
    "    {\n",
    "        display($\"Чтение отрывка из книги '{Name}' автора {Author}...\");\n",
    "        display(\"«Это была темная и stormy night...»\");\n",
    "    }\n",
    "}\n",
    "\n",
    "\n",
    "display(\"🛍️ СИСТЕМА УПРАВЛЕНИЯ ПРОДУКТАМИ\");\n",
    "display(\"==================================\");\n",
    "display(\"\");\n",
    "\n",
    "// Тест электроники\n",
    "display(\"1. ТЕСТИРОВАНИЕ ЭЛЕКТРОНИКИ\");\n",
    "Electronics laptop = new Electronics(\"Ноутбук Gaming\", 50000, \"ASUS\", 24);\n",
    "laptop.Display();\n",
    "laptop.CheckWarranty();\n",
    "laptop.Discount(15);\n",
    "display(\"\");\n",
    "\n",
    "// Тест одежды\n",
    "display(\"2. ТЕСТИРОВАНИЕ ОДЕЖДЫ\");\n",
    "Clothing shirt = new Clothing(\"Хлопковая рубашка\", 2500, \"Zara\", \"L\");\n",
    "shirt.Display();\n",
    "shirt.TryOn();\n",
    "shirt.Discount(20);\n",
    "display(\"\");\n",
    "\n",
    "// Тест книг\n",
    "display(\"3. ТЕСТИРОВАНИЕ КНИГ\");\n",
    "Books novel = new Books(\"Война и мир\", 1500, \"Эксмо\", \"Лев Толстой\");\n",
    "novel.Display();\n",
    "display(\"Информация: \" + novel.GetInfo());\n",
    "novel.ReadSample();\n",
    "novel.Discount(40);\n",
    "display(\"\");\n",
    "\n",
    "// Полиморфизм\n",
    "display(\"4. ДЕМОНСТРАЦИЯ ПОЛИМОРФИЗМА\");\n",
    "Product[] products = {\n",
    "    new Electronics(\"Смартфон\", 30000, \"Samsung\", 6),\n",
    "    new Clothing(\"Джинсы\", 4000, \"Levi's\", \"M\"),\n",
    "    new Books(\"1984\", 800, \"АСТ\", \"Джордж Оруэлл\")\n",
    "};\n",
    "\n",
    "foreach (var product in products)\n",
    "{\n",
    "    product.Display();\n",
    "    product.Discount(25);\n",
    "    display(\"\");\n",
    "}\n",
    "\n",
    "display(\"ПРОГРАММА ЗАВЕРШЕНА!\");\n",
    "\n",
    "\n",
    "public void Display(object message)\n",
    "{\n",
    "    #if POLYGLOT\n",
    "    Console.WriteLine(message);\n",
    "    #else\n",
    "    Console.WriteLine(message);\n",
    "    #endif\n",
    "}"
   ]
  }
 ],
 "metadata": {
  "kernelspec": {
   "display_name": ".NET (C#)",
   "language": "C#",
   "name": ".net-csharp"
  },
  "polyglot_notebook": {
   "kernelInfo": {
    "defaultKernelName": "csharp",
    "items": [
     {
      "aliases": [],
      "languageName": "csharp",
      "name": "csharp"
     }
    ]
   }
  }
 },
 "nbformat": 4,
 "nbformat_minor": 2
}
